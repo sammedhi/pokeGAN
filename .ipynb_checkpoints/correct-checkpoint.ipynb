{
 "cells": [
  {
   "cell_type": "markdown",
   "metadata": {},
   "source": [
    "# Objectives"
   ]
  },
  {
   "cell_type": "markdown",
   "metadata": {},
   "source": [
    "Through this tutorial you'll learn to implement a simple Deep Convolutional Neural Network to train a Pokedex !\n",
    "\n",
    "A Deep Convolutional Neural Network is an architecture of neural network made to process image .\n",
    "The one implemented is a light version of VGG (https://arxiv.org/pdf/1409.1556.pdf , University of Oxford).\n",
    "\n",
    "You'll develop this algorithm using 2 popular frameworks : Keras (Google) and PyTorch(Facebook)"
   ]
  },
  {
   "cell_type": "markdown",
   "metadata": {},
   "source": [
    "## Dataset Processing "
   ]
  },
  {
   "cell_type": "markdown",
   "metadata": {},
   "source": [
    "Before doing any kind of deep learning algorithm (or even Machine Learning one) you have to observe your data . Because you will choose your algorithm depending of the data and not the other way around!\n",
    "\n",
    "\n",
    "The following code is made to process the data , it'll load the images of pokemon from the dataset and seperate the data in 2 parts . One for the test and one for the train .\n",
    "\n",
    "In machine learning testing dataset are meant to allow us to test out model on data it never saw to be sure it never overfit\n",
    "\n",
    "https://en.wikipedia.org/wiki/Overfitting\n",
    "https://towardsdatascience.com/deep-learning-overfitting-846bf5b35e24\n",
    "https://hackernoon.com/memorizing-is-not-learning-6-tricks-to-prevent-overfitting-in-machine-learning-820b091dc42\n",
    "https://towardsdatascience.com/train-test-split-and-cross-validation-in-python-80b61beca4b6"
   ]
  },
  {
   "cell_type": "code",
   "execution_count": 1,
   "metadata": {},
   "outputs": [],
   "source": [
    "from tqdm import tqdm\n",
    "from PIL import Image\n",
    "import numpy as np\n",
    "\n",
    "def load_image( infilename , size=(128,128)) :\n",
    "    img = Image.open( infilename )\n",
    "    img.load()\n",
    "    img = img.resize(size)\n",
    "    data = np.asarray( img, dtype=\"int32\" )\n",
    "    return data\n",
    "\n",
    "def load_dataset(dataset , img_size=(64,64)):\n",
    "    samples = []\n",
    "    labels = []\n",
    "    for pokemon in tqdm(dataset):\n",
    "        try:\n",
    "            id = int(pokemon.split(\".\")[-2].split(\"_\")[-1])\n",
    "            if id < 150 :\n",
    "                samples.append(load_image(pokemon , img_size))\n",
    "                labels.append([0 if id != i else 1 for i in range(1 , 150 + 1)])\n",
    "        except:\n",
    "            pass\n",
    "    return np.array(samples) , np.array(labels)\n",
    "\n",
    "def balance_split_train_test(samples , labels , validation_rate):\n",
    "    samples_id_by_class = dict()\n",
    "    for samples_id in range(samples.shape[0]):\n",
    "        try:\n",
    "            samples_id_by_class[np.argmax(labels[samples_id , :])].append(samples_id)\n",
    "        except:\n",
    "            samples_id_by_class[np.argmax(labels[samples_id , :])]= [samples_id]\n",
    "\n",
    "    for cl in samples_id_by_class:\n",
    "        samples_data = samples[samples_id_by_class[cl]]\n",
    "        labels_data = labels[samples_id_by_class[cl]]\n",
    "        nb_samples_test = int(len(samples_data) * validation_rate)\n",
    "        nb_samples_train = len(samples_data) - nb_samples_test\n",
    "\n",
    "        try:\n",
    "            train_samples = np.concatenate( (train_samples , samples_data[:nb_samples_train , :]) , axis=0)\n",
    "            test_samples = np.concatenate( (test_samples , samples_data[nb_samples_train: , :]) , axis=0)\n",
    "            train_labels = np.concatenate( (train_labels , labels_data[:nb_samples_train , :]) , axis=0)\n",
    "            test_labels = np.concatenate( (test_labels , labels_data[nb_samples_train: , :]) , axis=0)\n",
    "        except:\n",
    "            train_samples = samples_data[:nb_samples_train , :]\n",
    "            test_samples = samples_data[nb_samples_train: , :]\n",
    "            train_labels = labels_data[:nb_samples_train , :]\n",
    "            test_labels = labels_data[nb_samples_train: , :]\n",
    "\n",
    "    return train_samples , train_labels , test_samples , test_labels\n",
    "\n"
   ]
  },
  {
   "cell_type": "code",
   "execution_count": 2,
   "metadata": {},
   "outputs": [],
   "source": [
    "import matplotlib.pyplot as plt\n",
    "import matplotlib.image as mpimg\n",
    "\n",
    "# The pokedex api contain all kind of knowledg about pokemon #\n",
    "# https://github.com/PokeDevs/pokedex.py/wiki #\n",
    "from pokedex import pokedex\n",
    "\n",
    "pokedex = pokedex.Pokedex(version='v1', user_agent='ExampleApp (https://example.com, v2.0.1)')\n",
    "\n",
    "def show_prediction(img , pokemon_id):\n",
    "    print(pokedex.get_pokemon_by_number(pokemon_id))\n",
    "    imgplot = plt.imshow(img)\n",
    "    "
   ]
  },
  {
   "cell_type": "markdown",
   "metadata": {},
   "source": [
    "## Keras"
   ]
  },
  {
   "cell_type": "markdown",
   "metadata": {},
   "source": [
    "Let's create the model in keras . Like we can saw down here this is really straightforward !\n",
    "For the architecture we used VGG-9 .\n",
    "\n"
   ]
  },
  {
   "cell_type": "code",
   "execution_count": 3,
   "metadata": {},
   "outputs": [],
   "source": [
    "import tensorflow.keras as keras\n",
    "\n",
    "def cnn_model(input_size , nb_class):\n",
    "    model = keras.Sequential([\n",
    "        keras.layers.Conv2D(32 , (3 , 3) , activation='relu'),\n",
    "        keras.layers.Conv2D(32 , (3 , 3) , activation='relu'),\n",
    "        keras.layers.MaxPooling2D(),\n",
    "        keras.layers.Conv2D(64 , (3 , 3) , activation='relu'),\n",
    "        keras.layers.Conv2D(64 , (3 , 3) , activation='relu'),\n",
    "        keras.layers.MaxPooling2D(),\n",
    "        keras.layers.Conv2D(128 , (3 , 3) , activation='relu'),\n",
    "        keras.layers.Conv2D(128 , (3 , 3) , activation='relu'),\n",
    "        keras.layers.MaxPooling2D(),\n",
    "        keras.layers.Flatten(),\n",
    "\n",
    "        keras.layers.Dense(2048 , activation='relu'),\n",
    "        keras.layers.Dense(2048 , activation='relu'),\n",
    "        keras.layers.Dense(nb_class, activation='softmax')\n",
    "\n",
    "    ])\n",
    "    \n",
    "    ### We choosed an optimizer which will decide how perform the bakcpropagation ###\n",
    "    optimizer = keras.optimizers.Adam(lr=0.0001)\n",
    "    ### We compile our model , which mean that we combine the optimizer ,         ###\n",
    "    ### the model we built and decide of the kind of output our model will have   ###\n",
    "    model.compile(loss='categorical_crossentropy', optimizer=optimizer, metrics=['accuracy'])\n",
    "    return model\n"
   ]
  },
  {
   "cell_type": "markdown",
   "metadata": {},
   "source": [
    "And now we can train our model with this few line ."
   ]
  },
  {
   "cell_type": "code",
   "execution_count": 4,
   "metadata": {},
   "outputs": [
    {
     "name": "stderr",
     "output_type": "stream",
     "text": [
      "100%|██████████| 8190/8190 [00:08<00:00, 975.72it/s] \n"
     ]
    },
    {
     "name": "stdout",
     "output_type": "stream",
     "text": [
      "Train on 1192 samples, validate on 149 samples\n",
      "Epoch 1/20\n",
      "1192/1192 [==============================] - 18s 15ms/step - loss: 7.7899 - acc: 0.0168 - val_loss: 4.9475 - val_acc: 0.0403\n",
      "Epoch 2/20\n",
      "1192/1192 [==============================] - 1s 653us/step - loss: 4.5576 - acc: 0.1183 - val_loss: 4.0076 - val_acc: 0.2349\n",
      "Epoch 3/20\n",
      "1192/1192 [==============================] - 1s 667us/step - loss: 2.9477 - acc: 0.4824 - val_loss: 1.9422 - val_acc: 0.6040\n",
      "Epoch 4/20\n",
      "1192/1192 [==============================] - 1s 658us/step - loss: 0.8508 - acc: 0.8272 - val_loss: 0.6505 - val_acc: 0.8456\n",
      "Epoch 5/20\n",
      "1192/1192 [==============================] - 1s 656us/step - loss: 0.1762 - acc: 0.9698 - val_loss: 0.2459 - val_acc: 0.9262\n",
      "Epoch 6/20\n",
      "1192/1192 [==============================] - 1s 658us/step - loss: 0.0576 - acc: 0.9891 - val_loss: 0.1845 - val_acc: 0.9664\n",
      "Epoch 7/20\n",
      "1192/1192 [==============================] - 1s 657us/step - loss: 0.0331 - acc: 0.9975 - val_loss: 0.0325 - val_acc: 1.0000\n",
      "Epoch 8/20\n",
      "1192/1192 [==============================] - 1s 661us/step - loss: 0.0053 - acc: 1.0000 - val_loss: 0.0158 - val_acc: 1.0000\n",
      "Epoch 9/20\n",
      "1192/1192 [==============================] - 1s 668us/step - loss: 0.0024 - acc: 1.0000 - val_loss: 0.0095 - val_acc: 1.0000\n",
      "Epoch 10/20\n",
      "1192/1192 [==============================] - 1s 671us/step - loss: 0.0013 - acc: 1.0000 - val_loss: 0.0080 - val_acc: 1.0000\n",
      "Epoch 11/20\n",
      "1192/1192 [==============================] - 1s 653us/step - loss: 0.0010 - acc: 1.0000 - val_loss: 0.0067 - val_acc: 1.0000\n",
      "Epoch 12/20\n",
      "1192/1192 [==============================] - 1s 660us/step - loss: 8.8659e-04 - acc: 1.0000 - val_loss: 0.0060 - val_acc: 1.0000\n",
      "Epoch 13/20\n",
      "1192/1192 [==============================] - 1s 660us/step - loss: 7.6953e-04 - acc: 1.0000 - val_loss: 0.0055 - val_acc: 1.0000\n",
      "Epoch 14/20\n",
      "1192/1192 [==============================] - 1s 660us/step - loss: 6.8266e-04 - acc: 1.0000 - val_loss: 0.0050 - val_acc: 1.0000\n",
      "Epoch 15/20\n",
      "1192/1192 [==============================] - 1s 670us/step - loss: 6.1203e-04 - acc: 1.0000 - val_loss: 0.0047 - val_acc: 1.0000\n",
      "Epoch 16/20\n",
      "1192/1192 [==============================] - 1s 664us/step - loss: 5.5078e-04 - acc: 1.0000 - val_loss: 0.0043 - val_acc: 1.0000\n",
      "Epoch 17/20\n",
      "1192/1192 [==============================] - 1s 664us/step - loss: 5.0068e-04 - acc: 1.0000 - val_loss: 0.0039 - val_acc: 1.0000\n",
      "Epoch 18/20\n",
      "1192/1192 [==============================] - 1s 658us/step - loss: 4.5495e-04 - acc: 1.0000 - val_loss: 0.0037 - val_acc: 1.0000\n",
      "Epoch 19/20\n",
      "1192/1192 [==============================] - 1s 654us/step - loss: 4.1738e-04 - acc: 1.0000 - val_loss: 0.0035 - val_acc: 1.0000\n",
      "Epoch 20/20\n",
      "1192/1192 [==============================] - 1s 662us/step - loss: 3.8355e-04 - acc: 1.0000 - val_loss: 0.0032 - val_acc: 1.0000\n"
     ]
    },
    {
     "data": {
      "text/plain": [
       "<tensorflow.python.keras.callbacks.History at 0x7fb0a128ebe0>"
      ]
     },
     "execution_count": 4,
     "metadata": {},
     "output_type": "execute_result"
    }
   ],
   "source": [
    "import glob\n",
    "\n",
    "DATASET_LOCATION = \"pokemon/*\"\n",
    "IMG_SIZE = (64 , 64)\n",
    "dataset_paths = glob.glob(DATASET_LOCATION)\n",
    "samples , labels = load_dataset(dataset_paths , IMG_SIZE)\n",
    "train_samples , train_labels , test_samples , test_labels = balance_split_train_test(samples , labels , 0.2)\n",
    "\n",
    "model = cnn_model(IMG_SIZE , labels.shape[1])\n",
    "model.fit(train_samples , train_labels , 64 , epochs=20 , validation_data=(test_samples , test_labels))\n",
    "\n"
   ]
  },
  {
   "cell_type": "markdown",
   "metadata": {},
   "source": [
    "Let's show how well it works !"
   ]
  },
  {
   "cell_type": "code",
   "execution_count": 5,
   "metadata": {},
   "outputs": [],
   "source": [
    "import random as rnd\n",
    "\n",
    "# We apply our prediction over all the test data\n",
    "predictions = np.argmax(model.predict(test_samples) , axis=1)"
   ]
  },
  {
   "cell_type": "code",
   "execution_count": 6,
   "metadata": {},
   "outputs": [
    {
     "name": "stdout",
     "output_type": "stream",
     "text": [
      "[{'eggGroups': ['Bug', 'Grass'], 'abilities': {'normal': ['Effect Spore', 'Dry Skin'], 'hidden': ['Damp']}, 'mythical': False, 'weight': '65 lbs.', 'starter': False, 'number': '47', 'name': 'Parasect', 'mega': False, 'gen': 1, 'height': '3\\'03\"', 'legendary': False, 'species': 'Mushroom', 'description': \"When nothing's left to extract from the bug, the mushrooms on its back leave spores on the bug's egg.\", 'sprite': 'https://pokeres.bastionbot.org/images/pokemon/47.png', 'gender': [50, 50], 'ultraBeast': False, 'types': ['Bug', 'Grass'], 'family': {'id': 19, 'evolutionStage': 2, 'evolutionLine': ['Paras', 'Parasect']}}]\n"
     ]
    },
    {
     "data": {
      "image/png": "[encoded data removed]",
      "text/plain": [
       "<Figure size 432x288 with 1 Axes>"
      ]
     },
     "metadata": {
      "needs_background": "light"
     },
     "output_type": "display_data"
    }
   ],
   "source": [
    "i = rnd.randint(0 , len(predictions) - 1)\n",
    "show_prediction(test_samples[i , : , : , :] , predictions[i] + 1) \n",
    "#prediction[i] + 1 cause the first pokemon index is 1 not 0 "
   ]
  },
  {
   "cell_type": "markdown",
   "metadata": {},
   "source": [
    " ## Pytorch"
   ]
  },
  {
   "cell_type": "markdown",
   "metadata": {},
   "source": [
    "In pytorch this is way more verbose ! Less adapted to beginner but we have more operability .\n",
    "Here the net definition "
   ]
  },
  {
   "cell_type": "code",
   "execution_count": 3,
   "metadata": {},
   "outputs": [],
   "source": [
    "import torch.nn as nn\n",
    "import torch.nn.functional as F\n",
    "import torch.optim as optim\n",
    "from torch.utils.data import Dataset as TorchDataset\n",
    "import torch\n",
    "\n",
    "\n",
    "### Our model class need to onherit from nn.Module ###\n",
    "class Net(nn.Module):\n",
    "    ### We define all the operation will we use in our model ###\n",
    "    def __init__(self , input_size , nb_class):\n",
    "        super(Net, self).__init__()\n",
    "        self.conv_layer1_1 = nn.Conv2d(3, 32, 3 , padding=2)\n",
    "        self.conv_layer1_2 = nn.Conv2d(32, 32, 3 , padding=2)\n",
    "\n",
    "        self.conv_layer2_1 = nn.Conv2d(32, 64, 3 , padding=2)\n",
    "        self.conv_layer2_2 = nn.Conv2d(64, 64, 3 , padding=2)\n",
    "\n",
    "        self.conv_layer3_1 = nn.Conv2d(64, 128, 3 , padding=2)\n",
    "        self.conv_layer3_2 = nn.Conv2d(128, 128, 3 , padding=2)\n",
    "        self.pool = nn.MaxPool2d(2, 2)\n",
    "        self.fc1 = nn.Linear(128 * 11 * 11, 2048)\n",
    "        self.fc2 = nn.Linear(2048 , 2048)\n",
    "        self.fc3 = nn.Linear(2048 , nb_class)\n",
    "        \n",
    "    ### We define how a pass forward work inside our model ###\n",
    "    def forward(self, x):\n",
    "        x = x.permute([0 , 3 , 1 , 2])\n",
    "        x = F.relu(self.conv_layer1_1(x))\n",
    "        x = F.relu(self.conv_layer1_2(x))\n",
    "        x = self.pool(x)\n",
    "\n",
    "        x = F.relu(self.conv_layer2_1(x))\n",
    "        x = F.relu(self.conv_layer2_2(x))\n",
    "        x = self.pool(x)\n",
    "\n",
    "        x = F.relu(self.conv_layer3_1(x))\n",
    "        x = F.relu(self.conv_layer3_2(x))\n",
    "        x = self.pool(x)\n",
    "\n",
    "        x = x.view(x.size(0) , -1)\n",
    "        x = F.relu(self.fc1(x))\n",
    "        x = F.relu(self.fc2(x))\n",
    "        x = self.fc3(x)\n",
    "        return x\n",
    "\n",
    "### We create a dataset manager were will we simply define how to distribute our data ###\n",
    "class TorchDataset(TorchDataset):\n",
    "    def __init__(self , samples , labels):\n",
    "        self.samples = samples\n",
    "        self.labels = labels\n",
    "\n",
    "    def __len__(self):\n",
    "        return self.samples.shape[0]\n",
    "\n",
    "    def __getitem__(self , index):\n",
    "        x = torch.from_numpy(self.samples[index , : , :])\n",
    "        y = torch.from_numpy(self.labels[index , :])\n",
    "        return x.cuda().float() , y.cuda()\n",
    "\n",
    "### We instantiate a model , decide which criterion we use to evaluate the loss ##\n",
    "###                    and which optmizer use to backpropagate                  ##\n",
    "def cnn_model(input_size , nb_class):\n",
    "    net = Net(input_size , nb_class)\n",
    "    criterion = nn.CrossEntropyLoss()\n",
    "    optimizer = optim.Adam(net.parameters(), lr=0.0001)\n",
    "\n",
    "    return net , criterion , optimizer\n"
   ]
  },
  {
   "cell_type": "markdown",
   "metadata": {},
   "source": [
    "Now we can train our model ."
   ]
  },
  {
   "cell_type": "code",
   "execution_count": 4,
   "metadata": {},
   "outputs": [
    {
     "name": "stderr",
     "output_type": "stream",
     "text": [
      "100%|██████████| 8190/8190 [00:01<00:00, 5079.32it/s]\n"
     ]
    },
    {
     "name": "stdout",
     "output_type": "stream",
     "text": [
      "[1,     1] loss: 0.00252\n",
      "Accuracy of the network on the train images: 0 %\n",
      "Accuracy of the network on the test images: 0 %\n",
      "[2,     1] loss: 0.00251\n",
      "Accuracy of the network on the train images: 1 %\n",
      "Accuracy of the network on the test images: 0 %\n",
      "[3,     1] loss: 0.00248\n",
      "Accuracy of the network on the train images: 5 %\n",
      "Accuracy of the network on the test images: 4 %\n",
      "[4,     1] loss: 0.00143\n",
      "Accuracy of the network on the train images: 28 %\n",
      "Accuracy of the network on the test images: 26 %\n",
      "[5,     1] loss: 0.00048\n",
      "Accuracy of the network on the train images: 73 %\n",
      "Accuracy of the network on the test images: 69 %\n",
      "[6,     1] loss: 0.00014\n",
      "Accuracy of the network on the train images: 94 %\n",
      "Accuracy of the network on the test images: 88 %\n",
      "[7,     1] loss: 0.00003\n",
      "Accuracy of the network on the train images: 96 %\n",
      "Accuracy of the network on the test images: 92 %\n",
      "[8,     1] loss: 0.00002\n",
      "Accuracy of the network on the train images: 98 %\n",
      "Accuracy of the network on the test images: 95 %\n",
      "[9,     1] loss: 0.00000\n",
      "Accuracy of the network on the train images: 100 %\n",
      "Accuracy of the network on the test images: 98 %\n",
      "[10,     1] loss: 0.00000\n",
      "Accuracy of the network on the train images: 100 %\n",
      "Accuracy of the network on the test images: 100 %\n",
      "[11,     1] loss: 0.00000\n",
      "Accuracy of the network on the train images: 100 %\n",
      "Accuracy of the network on the test images: 99 %\n",
      "[12,     1] loss: 0.00000\n",
      "Accuracy of the network on the train images: 100 %\n",
      "Accuracy of the network on the test images: 99 %\n",
      "[13,     1] loss: 0.00000\n",
      "Accuracy of the network on the train images: 100 %\n",
      "Accuracy of the network on the test images: 99 %\n",
      "[14,     1] loss: 0.00000\n",
      "Accuracy of the network on the train images: 100 %\n",
      "Accuracy of the network on the test images: 99 %\n",
      "[15,     1] loss: 0.00000\n",
      "Accuracy of the network on the train images: 100 %\n",
      "Accuracy of the network on the test images: 99 %\n",
      "[16,     1] loss: 0.00000\n",
      "Accuracy of the network on the train images: 100 %\n",
      "Accuracy of the network on the test images: 99 %\n",
      "[17,     1] loss: 0.00000\n",
      "Accuracy of the network on the train images: 100 %\n",
      "Accuracy of the network on the test images: 99 %\n",
      "[18,     1] loss: 0.00000\n",
      "Accuracy of the network on the train images: 100 %\n",
      "Accuracy of the network on the test images: 99 %\n",
      "[19,     1] loss: 0.00000\n",
      "Accuracy of the network on the train images: 100 %\n",
      "Accuracy of the network on the test images: 99 %\n",
      "[20,     1] loss: 0.00000\n",
      "Accuracy of the network on the train images: 100 %\n",
      "Accuracy of the network on the test images: 99 %\n",
      "Finished Training\n"
     ]
    }
   ],
   "source": [
    "import torch\n",
    "import glob\n",
    "\n",
    "def measure_accuracy(dataloader , net):\n",
    "    correct = 0\n",
    "    total = 0\n",
    "    with torch.no_grad():\n",
    "        for data in dataloader:\n",
    "            images, labels = data\n",
    "            labels = torch.max(labels, 1)[1]\n",
    "            outputs = net(images)\n",
    "            _, predicted = torch.max(outputs.data, 1)\n",
    "            total += labels.size(0)\n",
    "            correct += (predicted == labels).sum().item()\n",
    "    return 100 * correct / total\n",
    "\n",
    "DATASET_LOCATION = \"pokemon/*\"\n",
    "IMG_SIZE = (64 , 64)\n",
    "dataset_paths = glob.glob(DATASET_LOCATION)\n",
    "samples , labels = load_dataset(dataset_paths , IMG_SIZE)\n",
    "train_samples , train_labels , test_samples , test_labels = balance_split_train_test(samples , labels , 0.2)\n",
    "\n",
    "trainset = TorchDataset(train_samples , train_labels)\n",
    "trainloader = torch.utils.data.DataLoader(trainset, batch_size=32,\n",
    "                                          shuffle=True)\n",
    "\n",
    "testset = TorchDataset(test_samples , test_labels)\n",
    "testloader = torch.utils.data.DataLoader(testset, batch_size=32,\n",
    "                                         shuffle=False)\n",
    "\n",
    "net , criterion , optimizer = cnn_model(IMG_SIZE , labels.shape[1])\n",
    "\n",
    "net = net.cuda()\n",
    "criterion = criterion.cuda()\n",
    "net.train()\n",
    "\n",
    "for epoch in range(20):  # loop over the dataset multiple times\n",
    "\n",
    "    running_loss = 0.0\n",
    "    for i, data in enumerate(trainloader, 0):\n",
    "        # get the inputs\n",
    "        inputs, labels = data\n",
    "\n",
    "        # zero the parameter gradients\n",
    "        optimizer.zero_grad()\n",
    "\n",
    "        # forward + backward + optimize\n",
    "        outputs = net(inputs)\n",
    "        loss = criterion(outputs, torch.max(labels, 1)[1])\n",
    "        loss.backward()\n",
    "        optimizer.step()\n",
    "\n",
    "        # print statistics\n",
    "        running_loss += loss.item()\n",
    "        if i % 200 == 0:    # print every 2000 mini-batches\n",
    "            print('[%d, %5d] loss: %.5f' %\n",
    "                  (epoch + 1, i + 1, running_loss / 2000))\n",
    "            running_loss = 0.0\n",
    "\n",
    "            train_accuracy = measure_accuracy( trainloader , net )\n",
    "            test_accuracy = measure_accuracy( testloader , net )\n",
    "\n",
    "            print('Accuracy of the network on the train images: %d %%' % (\n",
    "                train_accuracy))\n",
    "\n",
    "            print('Accuracy of the network on the test images: %d %%' % (\n",
    "                test_accuracy))\n",
    "\n",
    "\n",
    "print('Finished Training')\n"
   ]
  },
  {
   "cell_type": "code",
   "execution_count": 9,
   "metadata": {},
   "outputs": [],
   "source": [
    "import random as rnd\n",
    "\n",
    "# We apply our prediction over all the test data\n",
    "torch_vector = torch.from_numpy(test_samples).cuda().float()\n",
    "predictions = np.argmax(net(torch_vector).detach().cpu().numpy() , axis=1)"
   ]
  },
  {
   "cell_type": "code",
   "execution_count": 11,
   "metadata": {},
   "outputs": [
    {
     "name": "stdout",
     "output_type": "stream",
     "text": [
      "[{'height': '3\\'03\"', 'family': {'evolutionStage': 2, 'id': 34, 'evolutionLine': ['Magnemite', 'Magneton', 'Magnezone']}, 'legendary': False, 'ultraBeast': False, 'number': '82', 'types': ['Electric', 'Steel'], 'abilities': {'hidden': ['Analytic'], 'normal': ['Magnet Pull', 'Sturdy']}, 'mythical': False, 'eggGroups': ['Mineral'], 'starter': False, 'gen': 1, 'weight': '132.3 lbs.', 'species': 'Magnet', 'name': 'Magneton', 'description': 'When many MAGNETON gather together, the resulting magnetic storm disrupts radio waves.', 'sprite': 'https://pokeres.bastionbot.org/images/pokemon/82.png', 'mega': False, 'gender': []}]\n"
     ]
    },
    {
     "data": {
      "image/png": "[encoded data removed]",
      "text/plain": [
       "<Figure size 432x288 with 1 Axes>"
      ]
     },
     "metadata": {
      "needs_background": "light"
     },
     "output_type": "display_data"
    }
   ],
   "source": [
    "i = rnd.randint(0 , len(predictions) - 1)\n",
    "show_prediction(test_samples[i , : , : , :] , predictions[i] + 1) \n",
    "#prediction[i] + 1 cause the first pokemon index is 1 not 0 "
   ]
  },
  {
   "cell_type": "code",
   "execution_count": null,
   "metadata": {},
   "outputs": [],
   "source": []
  }
 ],
 "metadata": {
  "kernelspec": {
   "display_name": "Python 3",
   "language": "python",
   "name": "python3"
  },
  "language_info": {
   "codemirror_mode": {
    "name": "ipython",
    "version": 3
   },
   "file_extension": ".py",
   "mimetype": "text/x-python",
   "name": "python",
   "nbconvert_exporter": "python",
   "pygments_lexer": "ipython3",
   "version": "3.5.2"
  }
 },
 "nbformat": 4,
 "nbformat_minor": 2
}
